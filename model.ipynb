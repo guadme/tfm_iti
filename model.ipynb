{
 "cells": [
  {
   "cell_type": "markdown",
   "id": "e02991c5",
   "metadata": {},
   "source": [
    "# Modeling the CSIC 2010 Dataset for TFM ITI"
   ]
  },
  {
   "cell_type": "markdown",
   "id": "a78b88ae",
   "metadata": {},
   "source": [
    "# Classifiers"
   ]
  },
  {
   "cell_type": "markdown",
   "id": "f261d37a",
   "metadata": {},
   "source": [
    "### Import libraries"
   ]
  },
  {
   "cell_type": "code",
   "execution_count": 6,
   "id": "27cc92e6",
   "metadata": {},
   "outputs": [],
   "source": [
    "import pandas as pd"
   ]
  },
  {
   "cell_type": "code",
   "execution_count": 7,
   "id": "c52f930e",
   "metadata": {},
   "outputs": [],
   "source": [
    "from sklearn.feature_extraction.text import TfidfVectorizer, HashingVectorizer\n",
    "from sklearn.model_selection import train_test_split\n",
    "from sklearn.feature_selection import SelectKBest, chi2\n",
    "from sklearn import metrics"
   ]
  },
  {
   "cell_type": "code",
   "execution_count": 22,
   "id": "af8db5a4",
   "metadata": {},
   "outputs": [],
   "source": [
    "from sklearn.linear_model import LogisticRegression\n",
    "from sklearn.svm import LinearSVC\n",
    "from sklearn import tree\n",
    "from sklearn.linear_model import SGDClassifier\n",
    "from sklearn.linear_model import Perceptron\n",
    "from sklearn.linear_model import PassiveAggressiveClassifier\n",
    "from sklearn.naive_bayes import BernoulliNB, MultinomialNB\n",
    "from sklearn.neighbors import KNeighborsClassifier\n",
    "from sklearn.neighbors import NearestCentroid\n",
    "from sklearn.ensemble import RandomForestClassifier, GradientBoostingClassifier\n",
    "from sklearn.utils import shuffle"
   ]
  },
  {
   "cell_type": "code",
   "execution_count": 9,
   "id": "00c94f80",
   "metadata": {},
   "outputs": [
    {
     "name": "stderr",
     "output_type": "stream",
     "text": [
      "/opt/conda/lib/python3.9/site-packages/IPython/core/interactiveshell.py:3441: DtypeWarning: Columns (14) have mixed types.Specify dtype option on import or set low_memory=False.\n",
      "  exec(code_obj, self.user_global_ns, self.user_ns)\n"
     ]
    }
   ],
   "source": [
    "df = pd.read_csv('all_traffic_dataset.csv')"
   ]
  },
  {
   "cell_type": "code",
   "execution_count": 10,
   "id": "309390f3",
   "metadata": {},
   "outputs": [
    {
     "name": "stderr",
     "output_type": "stream",
     "text": [
      "/tmp/ipykernel_177/3896780822.py:2: FutureWarning: In a future version of pandas all arguments of DataFrame.drop except for the argument 'labels' will be keyword-only\n",
      "  df = df.drop(['userAgent', 'pragma', 'cacheControl', 'acceptEncoding', 'acceptCharset', 'acceptLanguage'], 1)\n",
      "/tmp/ipykernel_177/3896780822.py:3: FutureWarning: In a future version of pandas all arguments of DataFrame.drop except for the argument 'labels' will be keyword-only\n",
      "  df = df.drop(['connection', 'cookie', 'accept', 'protocol'], 1)\n",
      "/tmp/ipykernel_177/3896780822.py:7: FutureWarning: In a future version of pandas all arguments of DataFrame.drop except for the argument 'labels' will be keyword-only\n",
      "  df = df.drop(['host'], 1)\n"
     ]
    },
    {
     "data": {
      "text/html": [
       "<div>\n",
       "<style scoped>\n",
       "    .dataframe tbody tr th:only-of-type {\n",
       "        vertical-align: middle;\n",
       "    }\n",
       "\n",
       "    .dataframe tbody tr th {\n",
       "        vertical-align: top;\n",
       "    }\n",
       "\n",
       "    .dataframe thead th {\n",
       "        text-align: right;\n",
       "    }\n",
       "</style>\n",
       "<table border=\"1\" class=\"dataframe\">\n",
       "  <thead>\n",
       "    <tr style=\"text-align: right;\">\n",
       "      <th></th>\n",
       "      <th>index</th>\n",
       "      <th>method</th>\n",
       "      <th>url</th>\n",
       "      <th>contentLength</th>\n",
       "      <th>contentType</th>\n",
       "      <th>payload</th>\n",
       "      <th>label</th>\n",
       "      <th>port</th>\n",
       "    </tr>\n",
       "  </thead>\n",
       "  <tbody>\n",
       "    <tr>\n",
       "      <th>0</th>\n",
       "      <td>0</td>\n",
       "      <td>GET</td>\n",
       "      <td>http://localhost:8080/tienda1/publico/anadir.jsp</td>\n",
       "      <td>NaN</td>\n",
       "      <td>NaN</td>\n",
       "      <td>id=2</td>\n",
       "      <td>anom</td>\n",
       "      <td>8080</td>\n",
       "    </tr>\n",
       "    <tr>\n",
       "      <th>1</th>\n",
       "      <td>0</td>\n",
       "      <td>GET</td>\n",
       "      <td>http://localhost:8080/tienda1/publico/anadir.jsp</td>\n",
       "      <td>NaN</td>\n",
       "      <td>NaN</td>\n",
       "      <td>nombre=Jam%F3n+Ib%E9rico</td>\n",
       "      <td>anom</td>\n",
       "      <td>8080</td>\n",
       "    </tr>\n",
       "    <tr>\n",
       "      <th>2</th>\n",
       "      <td>0</td>\n",
       "      <td>GET</td>\n",
       "      <td>http://localhost:8080/tienda1/publico/anadir.jsp</td>\n",
       "      <td>NaN</td>\n",
       "      <td>NaN</td>\n",
       "      <td>precio=85</td>\n",
       "      <td>anom</td>\n",
       "      <td>8080</td>\n",
       "    </tr>\n",
       "    <tr>\n",
       "      <th>3</th>\n",
       "      <td>0</td>\n",
       "      <td>GET</td>\n",
       "      <td>http://localhost:8080/tienda1/publico/anadir.jsp</td>\n",
       "      <td>NaN</td>\n",
       "      <td>NaN</td>\n",
       "      <td>cantidad=%27%3B+DROP+TABLE+usuarios%3B+SELECT+...</td>\n",
       "      <td>anom</td>\n",
       "      <td>8080</td>\n",
       "    </tr>\n",
       "    <tr>\n",
       "      <th>4</th>\n",
       "      <td>0</td>\n",
       "      <td>GET</td>\n",
       "      <td>http://localhost:8080/tienda1/publico/anadir.jsp</td>\n",
       "      <td>NaN</td>\n",
       "      <td>NaN</td>\n",
       "      <td>B1=A%F1adir+al+carrito</td>\n",
       "      <td>anom</td>\n",
       "      <td>8080</td>\n",
       "    </tr>\n",
       "  </tbody>\n",
       "</table>\n",
       "</div>"
      ],
      "text/plain": [
       "   index method                                               url  \\\n",
       "0      0    GET  http://localhost:8080/tienda1/publico/anadir.jsp   \n",
       "1      0    GET  http://localhost:8080/tienda1/publico/anadir.jsp   \n",
       "2      0    GET  http://localhost:8080/tienda1/publico/anadir.jsp   \n",
       "3      0    GET  http://localhost:8080/tienda1/publico/anadir.jsp   \n",
       "4      0    GET  http://localhost:8080/tienda1/publico/anadir.jsp   \n",
       "\n",
       "   contentLength contentType  \\\n",
       "0            NaN         NaN   \n",
       "1            NaN         NaN   \n",
       "2            NaN         NaN   \n",
       "3            NaN         NaN   \n",
       "4            NaN         NaN   \n",
       "\n",
       "                                             payload label  port  \n",
       "0                                               id=2  anom  8080  \n",
       "1                           nombre=Jam%F3n+Ib%E9rico  anom  8080  \n",
       "2                                          precio=85  anom  8080  \n",
       "3  cantidad=%27%3B+DROP+TABLE+usuarios%3B+SELECT+...  anom  8080  \n",
       "4                             B1=A%F1adir+al+carrito  anom  8080  "
      ]
     },
     "execution_count": 10,
     "metadata": {},
     "output_type": "execute_result"
    }
   ],
   "source": [
    "# Remove columns that contain the same values\n",
    "df = df.drop(['userAgent', 'pragma', 'cacheControl', 'acceptEncoding', 'acceptCharset', 'acceptLanguage'], 1)\n",
    "df = df.drop(['connection', 'cookie', 'accept', 'protocol'], 1)\n",
    "\n",
    "# Keep only the port because everything else is localhost\n",
    "df['port'] = df['host'].str.split(':', expand=True)[1]\n",
    "df = df.drop(['host'], 1)\n",
    "df.head()"
   ]
  },
  {
   "cell_type": "code",
   "execution_count": 11,
   "id": "a3b5ad25",
   "metadata": {},
   "outputs": [],
   "source": [
    "# Split the dataset in two to avoid mixed indices\n",
    "df_anom = df[df['label']=='anom']\n",
    "df_norm = df[df['label']=='norm']"
   ]
  },
  {
   "cell_type": "code",
   "execution_count": 12,
   "id": "c4d41651",
   "metadata": {},
   "outputs": [
    {
     "name": "stdout",
     "output_type": "stream",
     "text": [
      "   index                                            payload label\n",
      "0      0                                               id=2  anom\n",
      "1      0                           nombre=Jam%F3n+Ib%E9rico  anom\n",
      "2      0                                          precio=85  anom\n",
      "3      0  cantidad=%27%3B+DROP+TABLE+usuarios%3B+SELECT+...  anom\n",
      "4      0                             B1=A%F1adir+al+carrito  anom\n",
      "        index                 payload label\n",
      "119586      1                    id=3  norm\n",
      "119587      1       nombre=Vino+Rioja  norm\n",
      "119588      1              precio=100  norm\n",
      "119589      1             cantidad=55  norm\n",
      "119590      1  B1=A%F1adir+al+carrito  norm\n"
     ]
    }
   ],
   "source": [
    "df2_anom = df_anom[['index', 'payload', 'label']]\n",
    "df2_anom = df2_anom.dropna()\n",
    "print(df2_anom.head())\n",
    "\n",
    "df2_norm = df_norm[['index', 'payload', 'label']]\n",
    "df2_norm = df2_norm.dropna()\n",
    "print(df2_norm.head())"
   ]
  },
  {
   "cell_type": "code",
   "execution_count": 13,
   "id": "5c47eff4",
   "metadata": {},
   "outputs": [
    {
     "name": "stdout",
     "output_type": "stream",
     "text": [
      "                                                 payload label\n",
      "index                                                         \n",
      "0      B1 A%F1adir+al+carrito nombre Jam%F3n+Ib%E9ric...  anom\n",
      "1      B1 A%F1adir+al+carrito cantidad 49 nombre Jam%...  anom\n",
      "3      pwd 84m3ri156 modo entrar B1 Entrar login bob%...  anom\n",
      "4      modo entrar B1 Entrar login grimshaw pwd G%2F%...  anom\n",
      "5      pwd 84m3ri156 modo entrar B1 Entrar rememberA ...  anom\n",
      "                                                 payload  label\n",
      "index                                                          \n",
      "0      B1 A%F1adir+al+carrito nombre Jam%F3n+Ib%E9ric...      1\n",
      "1      B1 A%F1adir+al+carrito cantidad 49 nombre Jam%...      1\n",
      "3      pwd 84m3ri156 modo entrar B1 Entrar login bob%...      1\n",
      "4      modo entrar B1 Entrar login grimshaw pwd G%2F%...      1\n",
      "5      pwd 84m3ri156 modo entrar B1 Entrar rememberA ...      1\n"
     ]
    }
   ],
   "source": [
    "df3_anom = df2_anom[['payload','label']].groupby(df2_anom['index']).agg(lambda x: ' '.join(set(x)))\n",
    "df3_anom[\"payload\"] = df3_anom['payload'].apply(lambda x: x.replace(\"=\", \" \"))\n",
    "print(df3_anom.head())\n",
    "\n",
    "df3_anom['label'] = 1\n",
    "print(df3_anom.head())"
   ]
  },
  {
   "cell_type": "code",
   "execution_count": 14,
   "id": "16fe7f94",
   "metadata": {},
   "outputs": [
    {
     "name": "stdout",
     "output_type": "stream",
     "text": [
      "                                                 payload label\n",
      "index                                                         \n",
      "1      B1 A%F1adir+al+carrito id 3 cantidad 55 nombre...  norm\n",
      "2      remember off pwd d1se3ci%F3n modo entrar B1 En...  norm\n",
      "3                                                   id 2  norm\n",
      "5                      errorMsg Credenciales+incorrectas  norm\n",
      "7            modo insertar B1 Pasar+por+caja precio 2672  norm\n",
      "                                                 payload  label\n",
      "index                                                          \n",
      "1      B1 A%F1adir+al+carrito id 3 cantidad 55 nombre...      0\n",
      "2      remember off pwd d1se3ci%F3n modo entrar B1 En...      0\n",
      "3                                                   id 2      0\n",
      "5                      errorMsg Credenciales+incorrectas      0\n",
      "7            modo insertar B1 Pasar+por+caja precio 2672      0\n"
     ]
    }
   ],
   "source": [
    "df3_norm = df2_norm[['payload','label']].groupby(df2_norm['index']).agg(lambda x: ' '.join(set(x)))\n",
    "df3_norm[\"payload\"] = df3_norm['payload'].apply(lambda x: x.replace(\"=\", \" \"))\n",
    "print(df3_norm.head())\n",
    "\n",
    "df3_norm['label'] = 0\n",
    "print(df3_norm.head())"
   ]
  },
  {
   "cell_type": "code",
   "execution_count": 15,
   "id": "6a2a805c",
   "metadata": {},
   "outputs": [
    {
     "name": "stdout",
     "output_type": "stream",
     "text": [
      "                                                 payload  label\n",
      "index                                                          \n",
      "1      B1 A%F1adir+al+carrito id 3 cantidad 55 nombre...      0\n",
      "2      remember off pwd d1se3ci%F3n modo entrar B1 En...      0\n",
      "3                                                   id 2      0\n",
      "5                      errorMsg Credenciales+incorrectas      0\n",
      "7            modo insertar B1 Pasar+por+caja precio 2672      0\n",
      "              label\n",
      "count  35574.000000\n",
      "mean       0.550233\n",
      "std        0.497477\n",
      "min        0.000000\n",
      "25%        0.000000\n",
      "50%        1.000000\n",
      "75%        1.000000\n",
      "max        1.000000\n",
      "1    19574\n",
      "0    16000\n",
      "Name: label, dtype: int64\n"
     ]
    }
   ],
   "source": [
    "df4 = pd.concat([df3_norm, df3_anom])\n",
    "print(df4.head())\n",
    "print(df4.describe())\n",
    "print(df4.label.value_counts())"
   ]
  },
  {
   "cell_type": "code",
   "execution_count": 16,
   "id": "d5f46300",
   "metadata": {},
   "outputs": [],
   "source": [
    "# Vectorize the payload by creating character n-grams\n",
    "vec = TfidfVectorizer(analyzer='word',ngram_range=(3,3))\n",
    "\n",
    "y = df4['label']\n",
    "X = vec.fit_transform(df4['payload'].dropna())"
   ]
  },
  {
   "cell_type": "code",
   "execution_count": 17,
   "id": "518b6440",
   "metadata": {},
   "outputs": [
    {
     "name": "stdout",
     "output_type": "stream",
     "text": [
      "(35574, 114048) (35574,)\n"
     ]
    }
   ],
   "source": [
    "print(X.shape, y.shape)"
   ]
  },
  {
   "cell_type": "code",
   "execution_count": 18,
   "id": "c2617bb6",
   "metadata": {},
   "outputs": [],
   "source": [
    "X_train, X_test, y_train, y_test = train_test_split(X, y, test_size=0.2, random_state=21)"
   ]
  },
  {
   "cell_type": "code",
   "execution_count": 19,
   "id": "703e5805",
   "metadata": {},
   "outputs": [
    {
     "name": "stdout",
     "output_type": "stream",
     "text": [
      "0.907659873506676 0.9187384044526903\n",
      "[[2744  444]\n",
      " [ 213 3714]]\n"
     ]
    }
   ],
   "source": [
    "#Logistic Regression\n",
    "lgs = LogisticRegression()\n",
    "lgs.fit(X_train, y_train)\n",
    "pred = lgs.predict(X_test)\n",
    "\n",
    "accuracy = metrics.accuracy_score(y_test, pred)\n",
    "f1_score = metrics.f1_score(y_test, pred)\n",
    "conf_matrix = metrics.confusion_matrix(y_test, pred)\n",
    "\n",
    "print(accuracy, f1_score)\n",
    "print(conf_matrix)"
   ]
  },
  {
   "cell_type": "code",
   "execution_count": 23,
   "id": "653471a8",
   "metadata": {},
   "outputs": [
    {
     "name": "stdout",
     "output_type": "stream",
     "text": [
      "0.9319747013352073 0.9352941176470588\n",
      "[[3133   55]\n",
      " [ 429 3498]]\n"
     ]
    }
   ],
   "source": [
    "#Decesion Tree\n",
    "dtc = tree.DecisionTreeClassifier()\n",
    "dtc.fit(X_train, y_train)\n",
    "pred = dtc.predict(X_test)\n",
    "\n",
    "accuracy = metrics.accuracy_score(y_test, pred)\n",
    "f1_score = metrics.f1_score(y_test, pred)\n",
    "conf_matrix = metrics.confusion_matrix(y_test, pred)\n",
    "\n",
    "print(accuracy, f1_score)\n",
    "print(conf_matrix)"
   ]
  },
  {
   "cell_type": "code",
   "execution_count": 25,
   "id": "c7983025",
   "metadata": {},
   "outputs": [
    {
     "name": "stdout",
     "output_type": "stream",
     "text": [
      "0.9366127898805341 0.9394874547162216\n",
      "[[3163   25]\n",
      " [ 426 3501]]\n"
     ]
    }
   ],
   "source": [
    "#Random Forest\n",
    "rfc = RandomForestClassifier(n_estimators=200)\n",
    "rfc.fit(X_train, y_train)\n",
    "pred = rfc.predict(X_test)\n",
    "\n",
    "accuracy = metrics.accuracy_score(y_test, pred)\n",
    "f1_score = metrics.f1_score(y_test, pred)\n",
    "conf_matrix = metrics.confusion_matrix(y_test, pred)\n",
    "\n",
    "print(accuracy, f1_score)\n",
    "print(conf_matrix)"
   ]
  },
  {
   "cell_type": "code",
   "execution_count": 24,
   "id": "5a09fb04",
   "metadata": {},
   "outputs": [
    {
     "name": "stdout",
     "output_type": "stream",
     "text": [
      "0.9420941672522839 0.9446682782702123\n",
      "[[3186    2]\n",
      " [ 410 3517]]\n"
     ]
    }
   ],
   "source": [
    "#Linear SVM\n",
    "svm=LinearSVC(C=1)\n",
    "svm.fit(X_train, y_train)\n",
    "pred = svm.predict(X_test)\n",
    "\n",
    "\n",
    "\n",
    "accuracy = metrics.accuracy_score(y_test, pred)\n",
    "f1_score = metrics.f1_score(y_test, pred)\n",
    "conf_matrix = metrics.confusion_matrix(y_test, pred)\n",
    "\n",
    "print(accuracy, f1_score)\n",
    "print(conf_matrix)"
   ]
  },
  {
   "cell_type": "markdown",
   "id": "1adf52d0",
   "metadata": {},
   "source": [
    "#### Save model"
   ]
  },
  {
   "cell_type": "code",
   "execution_count": 44,
   "id": "5cebd4af",
   "metadata": {},
   "outputs": [],
   "source": [
    "import pickle\n",
    "\n",
    "# Save to file in the current working directory\n",
    "pkl_filename = \"pickle_svm.pkl\"\n",
    "with open(pkl_filename, 'wb') as file:\n",
    "    pickle.dump(svm, file)\n"
   ]
  },
  {
   "cell_type": "markdown",
   "id": "575d08b9",
   "metadata": {},
   "source": [
    "#### Load model"
   ]
  },
  {
   "cell_type": "code",
   "execution_count": null,
   "id": "b3a13d57",
   "metadata": {},
   "outputs": [],
   "source": [
    "# Load from file\n",
    "with open(pkl_filename, 'rb') as file:\n",
    "    pickle_model = pickle.load(file)\n",
    "    \n",
    "# Predict target values\n",
    "score = pickle_model.score(Xtest, Ytest)\n",
    "print(\"Test score: {0:.2f} %\".format(100 * score))\n",
    "Ypredict = pickle_model.predict(Xtest)"
   ]
  }
 ],
 "metadata": {
  "kernelspec": {
   "display_name": "Python 3 (ipykernel)",
   "language": "python",
   "name": "python3"
  },
  "language_info": {
   "codemirror_mode": {
    "name": "ipython",
    "version": 3
   },
   "file_extension": ".py",
   "mimetype": "text/x-python",
   "name": "python",
   "nbconvert_exporter": "python",
   "pygments_lexer": "ipython3",
   "version": "3.9.6"
  }
 },
 "nbformat": 4,
 "nbformat_minor": 5
}
