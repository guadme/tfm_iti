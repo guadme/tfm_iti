{
 "cells": [
  {
   "cell_type": "code",
   "execution_count": 11,
   "id": "f0827766",
   "metadata": {},
   "outputs": [],
   "source": [
    "import requests\n",
    "import json\n",
    "import pprint"
   ]
  },
  {
   "cell_type": "code",
   "execution_count": 12,
   "id": "e67bd835",
   "metadata": {},
   "outputs": [
    {
     "name": "stdout",
     "output_type": "stream",
     "text": [
      "Requirement already satisfied: elasticsearch in /opt/conda/lib/python3.9/site-packages (7.14.1)\n",
      "Requirement already satisfied: certifi in /opt/conda/lib/python3.9/site-packages (from elasticsearch) (2021.5.30)\n",
      "Requirement already satisfied: urllib3<2,>=1.21.1 in /opt/conda/lib/python3.9/site-packages (from elasticsearch) (1.26.6)\n",
      "Note: you may need to restart the kernel to use updated packages.\n"
     ]
    }
   ],
   "source": [
    "pip install elasticsearch"
   ]
  },
  {
   "cell_type": "code",
   "execution_count": 13,
   "id": "87b19726",
   "metadata": {},
   "outputs": [],
   "source": [
    "from elasticsearch import Elasticsearch"
   ]
  },
  {
   "cell_type": "code",
   "execution_count": 25,
   "id": "94877115",
   "metadata": {},
   "outputs": [],
   "source": [
    "es = Elasticsearch([\"http://elasticsearch:9200\"])\n",
    "res = es.search(index=\"logs-training\", body={\"query\": {\"match_all\": {}}})"
   ]
  },
  {
   "cell_type": "raw",
   "id": "e2fefd5a",
   "metadata": {},
   "source": [
    "pprint.pprint(res.json())"
   ]
  },
  {
   "cell_type": "code",
   "execution_count": null,
   "id": "a276801f",
   "metadata": {},
   "outputs": [],
   "source": []
  },
  {
   "cell_type": "code",
   "execution_count": null,
   "id": "ed336426",
   "metadata": {},
   "outputs": [],
   "source": []
  },
  {
   "cell_type": "code",
   "execution_count": null,
   "id": "a106dd56",
   "metadata": {},
   "outputs": [],
   "source": []
  }
 ],
 "metadata": {
  "kernelspec": {
   "display_name": "Python 3 (ipykernel)",
   "language": "python",
   "name": "python3"
  },
  "language_info": {
   "codemirror_mode": {
    "name": "ipython",
    "version": 3
   },
   "file_extension": ".py",
   "mimetype": "text/x-python",
   "name": "python",
   "nbconvert_exporter": "python",
   "pygments_lexer": "ipython3",
   "version": "3.9.6"
  }
 },
 "nbformat": 4,
 "nbformat_minor": 5
}
