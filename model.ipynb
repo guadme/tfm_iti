{
 "cells": [
  {
   "cell_type": "markdown",
   "id": "e02991c5",
   "metadata": {},
   "source": [
    "# Modeling the CSIC 2010 Dataset for TFM ITI"
   ]
  },
  {
   "cell_type": "markdown",
   "id": "a78b88ae",
   "metadata": {},
   "source": [
    "# Classifiers"
   ]
  },
  {
   "cell_type": "markdown",
   "id": "f261d37a",
   "metadata": {},
   "source": [
    "### Import libraries"
   ]
  },
  {
   "cell_type": "code",
   "execution_count": 50,
   "id": "27cc92e6",
   "metadata": {},
   "outputs": [],
   "source": [
    "import pandas as pd\n",
    "import numpy as np"
   ]
  },
  {
   "cell_type": "code",
   "execution_count": 51,
   "id": "c52f930e",
   "metadata": {},
   "outputs": [],
   "source": [
    "from sklearn.feature_extraction.text import TfidfVectorizer, HashingVectorizer\n",
    "from sklearn.model_selection import train_test_split\n",
    "from sklearn.feature_selection import SelectKBest, chi2\n",
    "from sklearn import metrics"
   ]
  },
  {
   "cell_type": "code",
   "execution_count": 52,
   "id": "af8db5a4",
   "metadata": {},
   "outputs": [],
   "source": [
    "from sklearn.linear_model import LogisticRegression\n",
    "from sklearn.svm import LinearSVC\n",
    "from sklearn import tree\n",
    "from sklearn.linear_model import SGDClassifier\n",
    "from sklearn.linear_model import Perceptron\n",
    "from sklearn.linear_model import PassiveAggressiveClassifier\n",
    "from sklearn.naive_bayes import BernoulliNB, MultinomialNB\n",
    "from sklearn.neighbors import KNeighborsClassifier\n",
    "from sklearn.neighbors import NearestCentroid\n",
    "from sklearn.ensemble import RandomForestClassifier, GradientBoostingClassifier\n",
    "from sklearn.utils import shuffle"
   ]
  },
  {
   "cell_type": "code",
   "execution_count": 69,
   "id": "00c94f80",
   "metadata": {},
   "outputs": [
    {
     "name": "stderr",
     "output_type": "stream",
     "text": [
      "/opt/conda/lib/python3.9/site-packages/IPython/core/interactiveshell.py:3441: DtypeWarning: Columns (14) have mixed types.Specify dtype option on import or set low_memory=False.\n",
      "  exec(code_obj, self.user_global_ns, self.user_ns)\n"
     ]
    }
   ],
   "source": [
    "df = pd.read_csv('TR_traffic_dataset.csv')"
   ]
  },
  {
   "cell_type": "code",
   "execution_count": 70,
   "id": "48a56798",
   "metadata": {},
   "outputs": [
    {
     "data": {
      "text/html": [
       "<div>\n",
       "<style scoped>\n",
       "    .dataframe tbody tr th:only-of-type {\n",
       "        vertical-align: middle;\n",
       "    }\n",
       "\n",
       "    .dataframe tbody tr th {\n",
       "        vertical-align: top;\n",
       "    }\n",
       "\n",
       "    .dataframe thead th {\n",
       "        text-align: right;\n",
       "    }\n",
       "</style>\n",
       "<table border=\"1\" class=\"dataframe\">\n",
       "  <thead>\n",
       "    <tr style=\"text-align: right;\">\n",
       "      <th></th>\n",
       "      <th>index</th>\n",
       "      <th>method</th>\n",
       "      <th>url</th>\n",
       "      <th>protocol</th>\n",
       "      <th>userAgent</th>\n",
       "      <th>pragma</th>\n",
       "      <th>cacheControl</th>\n",
       "      <th>accept</th>\n",
       "      <th>acceptEncoding</th>\n",
       "      <th>acceptCharset</th>\n",
       "      <th>acceptLanguage</th>\n",
       "      <th>host</th>\n",
       "      <th>connection</th>\n",
       "      <th>contentLength</th>\n",
       "      <th>contentType</th>\n",
       "      <th>cookie</th>\n",
       "      <th>payload</th>\n",
       "      <th>label</th>\n",
       "    </tr>\n",
       "  </thead>\n",
       "  <tbody>\n",
       "    <tr>\n",
       "      <th>222814</th>\n",
       "      <td>35999</td>\n",
       "      <td>POST</td>\n",
       "      <td>http://localhost:8080/tienda1/miembros/editar.jsp</td>\n",
       "      <td>HTTP/1.1</td>\n",
       "      <td>Mozilla/5.0 (compatible; Konqueror/3.5; Linux)...</td>\n",
       "      <td>no-cache</td>\n",
       "      <td>no-cache</td>\n",
       "      <td>text/xml,application/xml,application/xhtml+xml...</td>\n",
       "      <td>x-gzip, x-deflate, gzip, deflate</td>\n",
       "      <td>utf-8, utf-8;q=0.5, *;q=0.5</td>\n",
       "      <td>en</td>\n",
       "      <td>localhost:8080</td>\n",
       "      <td>close</td>\n",
       "      <td>238.0</td>\n",
       "      <td>application/x-www-form-urlencoded</td>\n",
       "      <td>JSESSIONID=05C0977CEA3691A57DFC74F2A03C3D2C</td>\n",
       "      <td>ciudad=Hontangas</td>\n",
       "      <td>norm</td>\n",
       "    </tr>\n",
       "    <tr>\n",
       "      <th>222815</th>\n",
       "      <td>35999</td>\n",
       "      <td>POST</td>\n",
       "      <td>http://localhost:8080/tienda1/miembros/editar.jsp</td>\n",
       "      <td>HTTP/1.1</td>\n",
       "      <td>Mozilla/5.0 (compatible; Konqueror/3.5; Linux)...</td>\n",
       "      <td>no-cache</td>\n",
       "      <td>no-cache</td>\n",
       "      <td>text/xml,application/xml,application/xhtml+xml...</td>\n",
       "      <td>x-gzip, x-deflate, gzip, deflate</td>\n",
       "      <td>utf-8, utf-8;q=0.5, *;q=0.5</td>\n",
       "      <td>en</td>\n",
       "      <td>localhost:8080</td>\n",
       "      <td>close</td>\n",
       "      <td>238.0</td>\n",
       "      <td>application/x-www-form-urlencoded</td>\n",
       "      <td>JSESSIONID=05C0977CEA3691A57DFC74F2A03C3D2C</td>\n",
       "      <td>cp=08192</td>\n",
       "      <td>norm</td>\n",
       "    </tr>\n",
       "    <tr>\n",
       "      <th>222816</th>\n",
       "      <td>35999</td>\n",
       "      <td>POST</td>\n",
       "      <td>http://localhost:8080/tienda1/miembros/editar.jsp</td>\n",
       "      <td>HTTP/1.1</td>\n",
       "      <td>Mozilla/5.0 (compatible; Konqueror/3.5; Linux)...</td>\n",
       "      <td>no-cache</td>\n",
       "      <td>no-cache</td>\n",
       "      <td>text/xml,application/xml,application/xhtml+xml...</td>\n",
       "      <td>x-gzip, x-deflate, gzip, deflate</td>\n",
       "      <td>utf-8, utf-8;q=0.5, *;q=0.5</td>\n",
       "      <td>en</td>\n",
       "      <td>localhost:8080</td>\n",
       "      <td>close</td>\n",
       "      <td>238.0</td>\n",
       "      <td>application/x-www-form-urlencoded</td>\n",
       "      <td>JSESSIONID=05C0977CEA3691A57DFC74F2A03C3D2C</td>\n",
       "      <td>provincia=Teruel</td>\n",
       "      <td>norm</td>\n",
       "    </tr>\n",
       "    <tr>\n",
       "      <th>222817</th>\n",
       "      <td>35999</td>\n",
       "      <td>POST</td>\n",
       "      <td>http://localhost:8080/tienda1/miembros/editar.jsp</td>\n",
       "      <td>HTTP/1.1</td>\n",
       "      <td>Mozilla/5.0 (compatible; Konqueror/3.5; Linux)...</td>\n",
       "      <td>no-cache</td>\n",
       "      <td>no-cache</td>\n",
       "      <td>text/xml,application/xml,application/xhtml+xml...</td>\n",
       "      <td>x-gzip, x-deflate, gzip, deflate</td>\n",
       "      <td>utf-8, utf-8;q=0.5, *;q=0.5</td>\n",
       "      <td>en</td>\n",
       "      <td>localhost:8080</td>\n",
       "      <td>close</td>\n",
       "      <td>238.0</td>\n",
       "      <td>application/x-www-form-urlencoded</td>\n",
       "      <td>JSESSIONID=05C0977CEA3691A57DFC74F2A03C3D2C</td>\n",
       "      <td>ntc=8231060336250168</td>\n",
       "      <td>norm</td>\n",
       "    </tr>\n",
       "    <tr>\n",
       "      <th>222818</th>\n",
       "      <td>35999</td>\n",
       "      <td>POST</td>\n",
       "      <td>http://localhost:8080/tienda1/miembros/editar.jsp</td>\n",
       "      <td>HTTP/1.1</td>\n",
       "      <td>Mozilla/5.0 (compatible; Konqueror/3.5; Linux)...</td>\n",
       "      <td>no-cache</td>\n",
       "      <td>no-cache</td>\n",
       "      <td>text/xml,application/xml,application/xhtml+xml...</td>\n",
       "      <td>x-gzip, x-deflate, gzip, deflate</td>\n",
       "      <td>utf-8, utf-8;q=0.5, *;q=0.5</td>\n",
       "      <td>en</td>\n",
       "      <td>localhost:8080</td>\n",
       "      <td>close</td>\n",
       "      <td>238.0</td>\n",
       "      <td>application/x-www-form-urlencoded</td>\n",
       "      <td>JSESSIONID=05C0977CEA3691A57DFC74F2A03C3D2C</td>\n",
       "      <td>B1=Registrar</td>\n",
       "      <td>norm</td>\n",
       "    </tr>\n",
       "  </tbody>\n",
       "</table>\n",
       "</div>"
      ],
      "text/plain": [
       "        index method                                                url  \\\n",
       "222814  35999   POST  http://localhost:8080/tienda1/miembros/editar.jsp   \n",
       "222815  35999   POST  http://localhost:8080/tienda1/miembros/editar.jsp   \n",
       "222816  35999   POST  http://localhost:8080/tienda1/miembros/editar.jsp   \n",
       "222817  35999   POST  http://localhost:8080/tienda1/miembros/editar.jsp   \n",
       "222818  35999   POST  http://localhost:8080/tienda1/miembros/editar.jsp   \n",
       "\n",
       "        protocol                                          userAgent    pragma  \\\n",
       "222814  HTTP/1.1  Mozilla/5.0 (compatible; Konqueror/3.5; Linux)...  no-cache   \n",
       "222815  HTTP/1.1  Mozilla/5.0 (compatible; Konqueror/3.5; Linux)...  no-cache   \n",
       "222816  HTTP/1.1  Mozilla/5.0 (compatible; Konqueror/3.5; Linux)...  no-cache   \n",
       "222817  HTTP/1.1  Mozilla/5.0 (compatible; Konqueror/3.5; Linux)...  no-cache   \n",
       "222818  HTTP/1.1  Mozilla/5.0 (compatible; Konqueror/3.5; Linux)...  no-cache   \n",
       "\n",
       "       cacheControl                                             accept  \\\n",
       "222814     no-cache  text/xml,application/xml,application/xhtml+xml...   \n",
       "222815     no-cache  text/xml,application/xml,application/xhtml+xml...   \n",
       "222816     no-cache  text/xml,application/xml,application/xhtml+xml...   \n",
       "222817     no-cache  text/xml,application/xml,application/xhtml+xml...   \n",
       "222818     no-cache  text/xml,application/xml,application/xhtml+xml...   \n",
       "\n",
       "                          acceptEncoding                acceptCharset  \\\n",
       "222814  x-gzip, x-deflate, gzip, deflate  utf-8, utf-8;q=0.5, *;q=0.5   \n",
       "222815  x-gzip, x-deflate, gzip, deflate  utf-8, utf-8;q=0.5, *;q=0.5   \n",
       "222816  x-gzip, x-deflate, gzip, deflate  utf-8, utf-8;q=0.5, *;q=0.5   \n",
       "222817  x-gzip, x-deflate, gzip, deflate  utf-8, utf-8;q=0.5, *;q=0.5   \n",
       "222818  x-gzip, x-deflate, gzip, deflate  utf-8, utf-8;q=0.5, *;q=0.5   \n",
       "\n",
       "       acceptLanguage            host connection  contentLength  \\\n",
       "222814             en  localhost:8080      close          238.0   \n",
       "222815             en  localhost:8080      close          238.0   \n",
       "222816             en  localhost:8080      close          238.0   \n",
       "222817             en  localhost:8080      close          238.0   \n",
       "222818             en  localhost:8080      close          238.0   \n",
       "\n",
       "                              contentType  \\\n",
       "222814  application/x-www-form-urlencoded   \n",
       "222815  application/x-www-form-urlencoded   \n",
       "222816  application/x-www-form-urlencoded   \n",
       "222817  application/x-www-form-urlencoded   \n",
       "222818  application/x-www-form-urlencoded   \n",
       "\n",
       "                                             cookie               payload  \\\n",
       "222814  JSESSIONID=05C0977CEA3691A57DFC74F2A03C3D2C      ciudad=Hontangas   \n",
       "222815  JSESSIONID=05C0977CEA3691A57DFC74F2A03C3D2C              cp=08192   \n",
       "222816  JSESSIONID=05C0977CEA3691A57DFC74F2A03C3D2C      provincia=Teruel   \n",
       "222817  JSESSIONID=05C0977CEA3691A57DFC74F2A03C3D2C  ntc=8231060336250168   \n",
       "222818  JSESSIONID=05C0977CEA3691A57DFC74F2A03C3D2C          B1=Registrar   \n",
       "\n",
       "       label  \n",
       "222814  norm  \n",
       "222815  norm  \n",
       "222816  norm  \n",
       "222817  norm  \n",
       "222818  norm  "
      ]
     },
     "execution_count": 70,
     "metadata": {},
     "output_type": "execute_result"
    }
   ],
   "source": [
    "df.tail()"
   ]
  },
  {
   "cell_type": "code",
   "execution_count": 71,
   "id": "309390f3",
   "metadata": {},
   "outputs": [
    {
     "name": "stderr",
     "output_type": "stream",
     "text": [
      "/tmp/ipykernel_158/3896780822.py:2: FutureWarning: In a future version of pandas all arguments of DataFrame.drop except for the argument 'labels' will be keyword-only\n",
      "  df = df.drop(['userAgent', 'pragma', 'cacheControl', 'acceptEncoding', 'acceptCharset', 'acceptLanguage'], 1)\n",
      "/tmp/ipykernel_158/3896780822.py:3: FutureWarning: In a future version of pandas all arguments of DataFrame.drop except for the argument 'labels' will be keyword-only\n",
      "  df = df.drop(['connection', 'cookie', 'accept', 'protocol'], 1)\n",
      "/tmp/ipykernel_158/3896780822.py:7: FutureWarning: In a future version of pandas all arguments of DataFrame.drop except for the argument 'labels' will be keyword-only\n",
      "  df = df.drop(['host'], 1)\n"
     ]
    },
    {
     "data": {
      "text/html": [
       "<div>\n",
       "<style scoped>\n",
       "    .dataframe tbody tr th:only-of-type {\n",
       "        vertical-align: middle;\n",
       "    }\n",
       "\n",
       "    .dataframe tbody tr th {\n",
       "        vertical-align: top;\n",
       "    }\n",
       "\n",
       "    .dataframe thead th {\n",
       "        text-align: right;\n",
       "    }\n",
       "</style>\n",
       "<table border=\"1\" class=\"dataframe\">\n",
       "  <thead>\n",
       "    <tr style=\"text-align: right;\">\n",
       "      <th></th>\n",
       "      <th>index</th>\n",
       "      <th>method</th>\n",
       "      <th>url</th>\n",
       "      <th>contentLength</th>\n",
       "      <th>contentType</th>\n",
       "      <th>payload</th>\n",
       "      <th>label</th>\n",
       "      <th>port</th>\n",
       "    </tr>\n",
       "  </thead>\n",
       "  <tbody>\n",
       "    <tr>\n",
       "      <th>0</th>\n",
       "      <td>0</td>\n",
       "      <td>GET</td>\n",
       "      <td>http://localhost:8080/tienda1/publico/anadir.jsp</td>\n",
       "      <td>NaN</td>\n",
       "      <td>NaN</td>\n",
       "      <td>id=2</td>\n",
       "      <td>anom</td>\n",
       "      <td>8080</td>\n",
       "    </tr>\n",
       "    <tr>\n",
       "      <th>1</th>\n",
       "      <td>0</td>\n",
       "      <td>GET</td>\n",
       "      <td>http://localhost:8080/tienda1/publico/anadir.jsp</td>\n",
       "      <td>NaN</td>\n",
       "      <td>NaN</td>\n",
       "      <td>nombre=Jam%F3n+Ib%E9rico</td>\n",
       "      <td>anom</td>\n",
       "      <td>8080</td>\n",
       "    </tr>\n",
       "    <tr>\n",
       "      <th>2</th>\n",
       "      <td>0</td>\n",
       "      <td>GET</td>\n",
       "      <td>http://localhost:8080/tienda1/publico/anadir.jsp</td>\n",
       "      <td>NaN</td>\n",
       "      <td>NaN</td>\n",
       "      <td>precio=85</td>\n",
       "      <td>anom</td>\n",
       "      <td>8080</td>\n",
       "    </tr>\n",
       "    <tr>\n",
       "      <th>3</th>\n",
       "      <td>0</td>\n",
       "      <td>GET</td>\n",
       "      <td>http://localhost:8080/tienda1/publico/anadir.jsp</td>\n",
       "      <td>NaN</td>\n",
       "      <td>NaN</td>\n",
       "      <td>cantidad=%27%3B+DROP+TABLE+usuarios%3B+SELECT+...</td>\n",
       "      <td>anom</td>\n",
       "      <td>8080</td>\n",
       "    </tr>\n",
       "    <tr>\n",
       "      <th>4</th>\n",
       "      <td>0</td>\n",
       "      <td>GET</td>\n",
       "      <td>http://localhost:8080/tienda1/publico/anadir.jsp</td>\n",
       "      <td>NaN</td>\n",
       "      <td>NaN</td>\n",
       "      <td>B1=A%F1adir+al+carrito</td>\n",
       "      <td>anom</td>\n",
       "      <td>8080</td>\n",
       "    </tr>\n",
       "  </tbody>\n",
       "</table>\n",
       "</div>"
      ],
      "text/plain": [
       "   index method                                               url  \\\n",
       "0      0    GET  http://localhost:8080/tienda1/publico/anadir.jsp   \n",
       "1      0    GET  http://localhost:8080/tienda1/publico/anadir.jsp   \n",
       "2      0    GET  http://localhost:8080/tienda1/publico/anadir.jsp   \n",
       "3      0    GET  http://localhost:8080/tienda1/publico/anadir.jsp   \n",
       "4      0    GET  http://localhost:8080/tienda1/publico/anadir.jsp   \n",
       "\n",
       "   contentLength contentType  \\\n",
       "0            NaN         NaN   \n",
       "1            NaN         NaN   \n",
       "2            NaN         NaN   \n",
       "3            NaN         NaN   \n",
       "4            NaN         NaN   \n",
       "\n",
       "                                             payload label  port  \n",
       "0                                               id=2  anom  8080  \n",
       "1                           nombre=Jam%F3n+Ib%E9rico  anom  8080  \n",
       "2                                          precio=85  anom  8080  \n",
       "3  cantidad=%27%3B+DROP+TABLE+usuarios%3B+SELECT+...  anom  8080  \n",
       "4                             B1=A%F1adir+al+carrito  anom  8080  "
      ]
     },
     "execution_count": 71,
     "metadata": {},
     "output_type": "execute_result"
    }
   ],
   "source": [
    "# Remove columns that contain the same values\n",
    "df = df.drop(['userAgent', 'pragma', 'cacheControl', 'acceptEncoding', 'acceptCharset', 'acceptLanguage'], 1)\n",
    "df = df.drop(['connection', 'cookie', 'accept', 'protocol'], 1)\n",
    "\n",
    "# Keep only the port because everything else is localhost\n",
    "df['port'] = df['host'].str.split(':', expand=True)[1]\n",
    "df = df.drop(['host'], 1)\n",
    "df.head()"
   ]
  },
  {
   "cell_type": "code",
   "execution_count": 72,
   "id": "a3b5ad25",
   "metadata": {},
   "outputs": [],
   "source": [
    "# Split the dataset in two to avoid mixed indices\n",
    "df_anom = df[df['label']=='anom']\n",
    "df_norm = df[df['label']=='norm']"
   ]
  },
  {
   "cell_type": "code",
   "execution_count": 73,
   "id": "c4d41651",
   "metadata": {},
   "outputs": [
    {
     "name": "stdout",
     "output_type": "stream",
     "text": [
      "   index                                            payload label\n",
      "0      0                                               id=2  anom\n",
      "1      0                           nombre=Jam%F3n+Ib%E9rico  anom\n",
      "2      0                                          precio=85  anom\n",
      "3      0  cantidad=%27%3B+DROP+TABLE+usuarios%3B+SELECT+...  anom\n",
      "4      0                             B1=A%F1adir+al+carrito  anom\n",
      "        index            payload label\n",
      "119347    234  B2=Vaciar+carrito  norm\n",
      "119356    243      modo=registro  norm\n",
      "119357    243      login=faraday  norm\n",
      "119358    243   password=8Ef6NDo  norm\n",
      "119359    243       nombre=Xixia  norm\n"
     ]
    }
   ],
   "source": [
    "df2_anom = df_anom[['index', 'payload', 'label']]\n",
    "df2_anom = df2_anom.dropna()\n",
    "print(df2_anom.head())\n",
    "\n",
    "df2_norm = df_norm[['index', 'payload', 'label']]\n",
    "df2_norm = df2_norm.dropna()\n",
    "print(df2_norm.head())"
   ]
  },
  {
   "cell_type": "code",
   "execution_count": 74,
   "id": "5c47eff4",
   "metadata": {},
   "outputs": [
    {
     "name": "stdout",
     "output_type": "stream",
     "text": [
      "                                                 payload label\n",
      "index                                                         \n",
      "0      nombre Jam%F3n+Ib%E9rico id 2 cantidad %27%3B+...  anom\n",
      "1      id 2%2F nombre Jam%F3n+Ib%E9rico B1 A%F1adir+a...  anom\n",
      "3      B1 Entrar pwd 84m3ri156 remember on login bob%...  anom\n",
      "4      pwd G%2F%2FlAc%2CIAr B1 Entrar login grimshaw ...  anom\n",
      "5      rememberA on B1 Entrar login grimshaw pwd 84m3...  anom\n",
      "                                                 payload  label\n",
      "index                                                          \n",
      "0      nombre Jam%F3n+Ib%E9rico id 2 cantidad %27%3B+...      1\n",
      "1      id 2%2F nombre Jam%F3n+Ib%E9rico B1 A%F1adir+a...      1\n",
      "3      B1 Entrar pwd 84m3ri156 remember on login bob%...      1\n",
      "4      pwd G%2F%2FlAc%2CIAr B1 Entrar login grimshaw ...      1\n",
      "5      rememberA on B1 Entrar login grimshaw pwd 84m3...      1\n"
     ]
    }
   ],
   "source": [
    "df3_anom = df2_anom[['payload','label']].groupby(df2_anom['index']).agg(lambda x: ' '.join(set(x)))\n",
    "df3_anom[\"payload\"] = df3_anom['payload'].apply(lambda x: x.replace(\"=\", \" \"))\n",
    "print(df3_anom.head())\n",
    "\n",
    "df3_anom['label'] = 1\n",
    "print(df3_anom.head())"
   ]
  },
  {
   "cell_type": "code",
   "execution_count": 75,
   "id": "16fe7f94",
   "metadata": {},
   "outputs": [
    {
     "name": "stdout",
     "output_type": "stream",
     "text": [
      "                                                 payload label\n",
      "index                                                         \n",
      "234                                    B2 Vaciar+carrito  norm\n",
      "243    ntc 7057231009442608 apellidos Paula+Pladellor...  norm\n",
      "253    id 2 B1 A%F1adir+al+carrito cantidad 79 precio...  norm\n",
      "254    B1 Entrar remember off pwd vimbre modo entrar ...  norm\n",
      "255                                                 id 1  norm\n",
      "                                                 payload  label\n",
      "index                                                          \n",
      "35995                  errorMsg Credenciales+incorrectas      0\n",
      "35996        precio 6460 B1 Pasar+por+caja modo insertar      0\n",
      "35997  nombre Florestano email pianka%40noviasteresap...      0\n",
      "35998                                  B2 Vaciar+carrito      0\n",
      "35999  apellidos Bernaus ciudad Hontangas cp 08192 dn...      0\n"
     ]
    }
   ],
   "source": [
    "df3_norm = df2_norm[['payload','label']].groupby(df2_norm['index']).agg(lambda x: ' '.join(set(x)))\n",
    "df3_norm[\"payload\"] = df3_norm['payload'].apply(lambda x: x.replace(\"=\", \" \"))\n",
    "print(df3_norm.head())\n",
    "\n",
    "df3_norm['label'] = 0\n",
    "print(df3_norm.tail())"
   ]
  },
  {
   "cell_type": "code",
   "execution_count": 76,
   "id": "6a2a805c",
   "metadata": {},
   "outputs": [
    {
     "name": "stdout",
     "output_type": "stream",
     "text": [
      "                                                 payload  label\n",
      "index                                                          \n",
      "234                                    B2 Vaciar+carrito      0\n",
      "243    ntc 7057231009442608 apellidos Paula+Pladellor...      0\n",
      "253    id 2 B1 A%F1adir+al+carrito cantidad 79 precio...      0\n",
      "254    B1 Entrar remember off pwd vimbre modo entrar ...      0\n",
      "255                                                 id 1      0\n",
      "              label\n",
      "count  35450.000000\n",
      "mean       0.550635\n",
      "std        0.497437\n",
      "min        0.000000\n",
      "25%        0.000000\n",
      "50%        1.000000\n",
      "75%        1.000000\n",
      "max        1.000000\n",
      "1    19520\n",
      "0    15930\n",
      "Name: label, dtype: int64\n"
     ]
    }
   ],
   "source": [
    "df4 = pd.concat([df3_norm, df3_anom])\n",
    "print(df4.head())\n",
    "print(df4.describe())\n",
    "print(df4.label.value_counts())"
   ]
  },
  {
   "cell_type": "code",
   "execution_count": 77,
   "id": "3e8ea7d9",
   "metadata": {},
   "outputs": [],
   "source": [
    "df4_norm = df3_norm.iloc[:5000, :]\n",
    "df4_anom = df3_anom.iloc[:5000, :]"
   ]
  },
  {
   "cell_type": "code",
   "execution_count": 78,
   "id": "d5f46300",
   "metadata": {},
   "outputs": [],
   "source": [
    "# Vectorize the payload to view feature importance\n",
    "vec = TfidfVectorizer(max_df=.65, analyzer='word',ngram_range=(1,2))\n",
    "\n",
    "X_norm = vec.fit_transform(df4_norm['payload'].dropna())\n",
    "X_anom = vec.fit_transform(df4_anom['payload'].dropna())"
   ]
  },
  {
   "cell_type": "code",
   "execution_count": 79,
   "id": "1559256e",
   "metadata": {},
   "outputs": [],
   "source": [
    "array_norm = X_norm.toarray()\n",
    "array_anom = X_anom.toarray()"
   ]
  },
  {
   "cell_type": "code",
   "execution_count": 80,
   "id": "55769b35",
   "metadata": {},
   "outputs": [
    {
     "ename": "KeyboardInterrupt",
     "evalue": "",
     "output_type": "error",
     "traceback": [
      "\u001b[0;31m---------------------------------------------------------------------------\u001b[0m",
      "\u001b[0;31mKeyboardInterrupt\u001b[0m                         Traceback (most recent call last)",
      "\u001b[0;32m/tmp/ipykernel_158/209172893.py\u001b[0m in \u001b[0;36m<module>\u001b[0;34m\u001b[0m\n\u001b[1;32m      1\u001b[0m \u001b[0;32mfor\u001b[0m \u001b[0mcounter\u001b[0m\u001b[0;34m,\u001b[0m \u001b[0mdoc\u001b[0m \u001b[0;32min\u001b[0m \u001b[0menumerate\u001b[0m\u001b[0;34m(\u001b[0m\u001b[0marray_anom\u001b[0m\u001b[0;34m)\u001b[0m\u001b[0;34m:\u001b[0m\u001b[0;34m\u001b[0m\u001b[0;34m\u001b[0m\u001b[0m\n\u001b[1;32m      2\u001b[0m     \u001b[0;31m# construct a dataframe\u001b[0m\u001b[0;34m\u001b[0m\u001b[0;34m\u001b[0m\u001b[0;34m\u001b[0m\u001b[0m\n\u001b[0;32m----> 3\u001b[0;31m     \u001b[0mtf_idf_tuples\u001b[0m \u001b[0;34m=\u001b[0m \u001b[0mlist\u001b[0m\u001b[0;34m(\u001b[0m\u001b[0mzip\u001b[0m\u001b[0;34m(\u001b[0m\u001b[0mvec\u001b[0m\u001b[0;34m.\u001b[0m\u001b[0mget_feature_names\u001b[0m\u001b[0;34m(\u001b[0m\u001b[0;34m)\u001b[0m\u001b[0;34m,\u001b[0m \u001b[0mdoc\u001b[0m\u001b[0;34m)\u001b[0m\u001b[0;34m)\u001b[0m\u001b[0;34m\u001b[0m\u001b[0;34m\u001b[0m\u001b[0m\n\u001b[0m\u001b[1;32m      4\u001b[0m     \u001b[0mone_doc_as_df\u001b[0m \u001b[0;34m=\u001b[0m \u001b[0mpd\u001b[0m\u001b[0;34m.\u001b[0m\u001b[0mDataFrame\u001b[0m\u001b[0;34m.\u001b[0m\u001b[0mfrom_records\u001b[0m\u001b[0;34m(\u001b[0m\u001b[0mtf_idf_tuples\u001b[0m\u001b[0;34m,\u001b[0m \u001b[0mcolumns\u001b[0m\u001b[0;34m=\u001b[0m\u001b[0;34m[\u001b[0m\u001b[0;34m'term'\u001b[0m\u001b[0;34m,\u001b[0m \u001b[0;34m'score'\u001b[0m\u001b[0;34m]\u001b[0m\u001b[0;34m)\u001b[0m\u001b[0;34m.\u001b[0m\u001b[0msort_values\u001b[0m\u001b[0;34m(\u001b[0m\u001b[0mby\u001b[0m\u001b[0;34m=\u001b[0m\u001b[0;34m'score'\u001b[0m\u001b[0;34m,\u001b[0m \u001b[0mascending\u001b[0m\u001b[0;34m=\u001b[0m\u001b[0;32mFalse\u001b[0m\u001b[0;34m)\u001b[0m\u001b[0;34m.\u001b[0m\u001b[0mreset_index\u001b[0m\u001b[0;34m(\u001b[0m\u001b[0mdrop\u001b[0m\u001b[0;34m=\u001b[0m\u001b[0;32mTrue\u001b[0m\u001b[0;34m)\u001b[0m\u001b[0;34m\u001b[0m\u001b[0;34m\u001b[0m\u001b[0m\n",
      "\u001b[0;32m/opt/conda/lib/python3.9/site-packages/sklearn/feature_extraction/text.py\u001b[0m in \u001b[0;36mget_feature_names\u001b[0;34m(self)\u001b[0m\n\u001b[1;32m   1297\u001b[0m         \u001b[0mself\u001b[0m\u001b[0;34m.\u001b[0m\u001b[0m_check_vocabulary\u001b[0m\u001b[0;34m(\u001b[0m\u001b[0;34m)\u001b[0m\u001b[0;34m\u001b[0m\u001b[0;34m\u001b[0m\u001b[0m\n\u001b[1;32m   1298\u001b[0m \u001b[0;34m\u001b[0m\u001b[0m\n\u001b[0;32m-> 1299\u001b[0;31m         return [t for t, i in sorted(self.vocabulary_.items(),\n\u001b[0m\u001b[1;32m   1300\u001b[0m                                      key=itemgetter(1))]\n\u001b[1;32m   1301\u001b[0m \u001b[0;34m\u001b[0m\u001b[0m\n",
      "\u001b[0;31mKeyboardInterrupt\u001b[0m: "
     ]
    }
   ],
   "source": [
    "for counter, doc in enumerate(array_anom):\n",
    "    # construct a dataframe\n",
    "    tf_idf_tuples = list(zip(vec.get_feature_names(), doc))\n",
    "    one_doc_as_df = pd.DataFrame.from_records(tf_idf_tuples, columns=['term', 'score']).sort_values(by='score', ascending=False).reset_index(drop=True)"
   ]
  },
  {
   "cell_type": "code",
   "execution_count": null,
   "id": "5cd5ad58",
   "metadata": {},
   "outputs": [],
   "source": [
    "one_doc_as_df"
   ]
  },
  {
   "cell_type": "code",
   "execution_count": null,
   "id": "ae6d4dc4",
   "metadata": {},
   "outputs": [],
   "source": [
    "for counter, doc in enumerate(array_norm):\n",
    "    # construct a dataframe\n",
    "    tf_idf_tuples = list(zip(vec.get_feature_names(), doc))\n",
    "    one_doc_as_df = pd.DataFrame.from_records(tf_idf_tuples, columns=['term', 'score']).sort_values(by='score', ascending=False).reset_index(drop=True)"
   ]
  },
  {
   "cell_type": "code",
   "execution_count": null,
   "id": "ac63b8a1",
   "metadata": {},
   "outputs": [],
   "source": [
    "one_doc_as_df"
   ]
  },
  {
   "cell_type": "code",
   "execution_count": 81,
   "id": "85cf2273",
   "metadata": {},
   "outputs": [],
   "source": [
    "# Vectorize the payload of all the dataset\n",
    "\n",
    "y = df4['label']\n",
    "X = vec.fit_transform(df4['payload'].dropna())"
   ]
  },
  {
   "cell_type": "code",
   "execution_count": 82,
   "id": "c2617bb6",
   "metadata": {},
   "outputs": [],
   "source": [
    "X_train, X_test, y_train, y_test = train_test_split(X, y, test_size=0.2, random_state=21)"
   ]
  },
  {
   "cell_type": "code",
   "execution_count": 83,
   "id": "703e5805",
   "metadata": {},
   "outputs": [
    {
     "name": "stdout",
     "output_type": "stream",
     "text": [
      "0.9799717912552891 0.9817808570695407\n",
      "[[3122   29]\n",
      " [ 113 3826]]\n"
     ]
    },
    {
     "name": "stderr",
     "output_type": "stream",
     "text": [
      "/opt/conda/lib/python3.9/site-packages/sklearn/linear_model/_logistic.py:763: ConvergenceWarning: lbfgs failed to converge (status=1):\n",
      "STOP: TOTAL NO. of ITERATIONS REACHED LIMIT.\n",
      "\n",
      "Increase the number of iterations (max_iter) or scale the data as shown in:\n",
      "    https://scikit-learn.org/stable/modules/preprocessing.html\n",
      "Please also refer to the documentation for alternative solver options:\n",
      "    https://scikit-learn.org/stable/modules/linear_model.html#logistic-regression\n",
      "  n_iter_i = _check_optimize_result(\n"
     ]
    }
   ],
   "source": [
    "#Logistic Regression\n",
    "lgs = LogisticRegression()\n",
    "lgs.fit(X_train, y_train)\n",
    "pred = lgs.predict(X_test)\n",
    "\n",
    "accuracy = metrics.accuracy_score(y_test, pred)\n",
    "f1_score = metrics.f1_score(y_test, pred)\n",
    "conf_matrix = metrics.confusion_matrix(y_test, pred)\n",
    "\n",
    "print(accuracy, f1_score)\n",
    "print(conf_matrix)"
   ]
  },
  {
   "cell_type": "code",
   "execution_count": 84,
   "id": "653471a8",
   "metadata": {},
   "outputs": [
    {
     "name": "stdout",
     "output_type": "stream",
     "text": [
      "0.9746121297602257 0.977005620848237\n",
      "[[3086   65]\n",
      " [ 115 3824]]\n"
     ]
    }
   ],
   "source": [
    "#Decesion Tree\n",
    "dtc = tree.DecisionTreeClassifier()\n",
    "dtc.fit(X_train, y_train)\n",
    "pred = dtc.predict(X_test)\n",
    "\n",
    "accuracy = metrics.accuracy_score(y_test, pred)\n",
    "f1_score = metrics.f1_score(y_test, pred)\n",
    "conf_matrix = metrics.confusion_matrix(y_test, pred)\n",
    "\n",
    "print(accuracy, f1_score)\n",
    "print(conf_matrix)"
   ]
  },
  {
   "cell_type": "code",
   "execution_count": null,
   "id": "c7983025",
   "metadata": {},
   "outputs": [],
   "source": [
    "#Random Forest\n",
    "rfc = RandomForestClassifier(n_estimators=200)\n",
    "rfc.fit(X_train, y_train)\n",
    "pred = rfc.predict(X_test)\n",
    "\n",
    "accuracy = metrics.accuracy_score(y_test, pred)\n",
    "f1_score = metrics.f1_score(y_test, pred)\n",
    "conf_matrix = metrics.confusion_matrix(y_test, pred)\n",
    "\n",
    "print(accuracy, f1_score)\n",
    "print(conf_matrix)"
   ]
  },
  {
   "cell_type": "code",
   "execution_count": null,
   "id": "5a09fb04",
   "metadata": {},
   "outputs": [],
   "source": [
    "#Linear SVM\n",
    "svm=LinearSVC(C=1)\n",
    "svm.fit(X_train, y_train)\n",
    "pred = svm.predict(X_test)\n",
    "\n",
    "\n",
    "\n",
    "accuracy = metrics.accuracy_score(y_test, pred)\n",
    "f1_score = metrics.f1_score(y_test, pred)\n",
    "conf_matrix = metrics.confusion_matrix(y_test, pred)\n",
    "\n",
    "print(accuracy, f1_score)\n",
    "print(conf_matrix)"
   ]
  },
  {
   "cell_type": "markdown",
   "id": "1adf52d0",
   "metadata": {},
   "source": [
    "#### Save model"
   ]
  },
  {
   "cell_type": "code",
   "execution_count": null,
   "id": "5cebd4af",
   "metadata": {},
   "outputs": [],
   "source": [
    "import pickle\n",
    "\n",
    "# Save to file in the current working directory\n",
    "pkl_filename = \"pickle_svm.pkl\"\n",
    "with open(pkl_filename, 'wb') as file:\n",
    "    pickle.dump(svm, file)\n"
   ]
  },
  {
   "cell_type": "markdown",
   "id": "575d08b9",
   "metadata": {},
   "source": [
    "#### Load model"
   ]
  },
  {
   "cell_type": "code",
   "execution_count": null,
   "id": "b3a13d57",
   "metadata": {},
   "outputs": [],
   "source": [
    "# Load from file\n",
    "with open(pkl_filename, 'rb') as file:\n",
    "    pickle_model = pickle.load(file)\n",
    "    \n",
    "# Predict target values\n",
    "score = pickle_model.score(Xtest, Ytest)\n",
    "print(\"Test score: {0:.2f} %\".format(100 * score))\n",
    "Ypredict = pickle_model.predict(Xtest)"
   ]
  }
 ],
 "metadata": {
  "kernelspec": {
   "display_name": "Python 3 (ipykernel)",
   "language": "python",
   "name": "python3"
  },
  "language_info": {
   "codemirror_mode": {
    "name": "ipython",
    "version": 3
   },
   "file_extension": ".py",
   "mimetype": "text/x-python",
   "name": "python",
   "nbconvert_exporter": "python",
   "pygments_lexer": "ipython3",
   "version": "3.9.6"
  }
 },
 "nbformat": 4,
 "nbformat_minor": 5
}
