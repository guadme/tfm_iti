{
 "cells": [
  {
   "cell_type": "code",
   "execution_count": 26,
   "id": "f0827766",
   "metadata": {},
   "outputs": [],
   "source": [
    "import requests\n",
    "import json\n",
    "import pprint"
   ]
  },
  {
   "cell_type": "code",
   "execution_count": 27,
   "id": "e67bd835",
   "metadata": {},
   "outputs": [
    {
     "name": "stdout",
     "output_type": "stream",
     "text": [
      "Requirement already satisfied: elasticsearch in /opt/conda/lib/python3.9/site-packages (7.14.1)\n",
      "Requirement already satisfied: urllib3<2,>=1.21.1 in /opt/conda/lib/python3.9/site-packages (from elasticsearch) (1.26.6)\n",
      "Requirement already satisfied: certifi in /opt/conda/lib/python3.9/site-packages (from elasticsearch) (2021.5.30)\n",
      "Note: you may need to restart the kernel to use updated packages.\n"
     ]
    }
   ],
   "source": [
    "pip install elasticsearch"
   ]
  },
  {
   "cell_type": "code",
   "execution_count": 28,
   "id": "87b19726",
   "metadata": {},
   "outputs": [],
   "source": [
    "from elasticsearch import Elasticsearch\n",
    "from io import StringIO\n",
    "import pandas as pd"
   ]
  },
  {
   "cell_type": "code",
   "execution_count": 313,
   "id": "a9b14577",
   "metadata": {},
   "outputs": [],
   "source": [
    "es = Elasticsearch('http://elasticsearch:9200')"
   ]
  },
  {
   "cell_type": "code",
   "execution_count": 314,
   "id": "94877115",
   "metadata": {},
   "outputs": [],
   "source": [
    "res = es.search(index=\"logs-training\", body={\"query\": {\"match_all\": {}}}, size=2)"
   ]
  },
  {
   "cell_type": "code",
   "execution_count": 315,
   "id": "1ec0c39e",
   "metadata": {},
   "outputs": [],
   "source": [
    "df_empty = pd.DataFrame(columns=[\"index\",\"method\",\"url\",\"protocol\",\"userAgent\",\"pragma\",\"cacheControl\",\"accept\",\"acceptEncoding\",\"acceptCharset\",\"acceptLanguage\",\"host\",\"connection\",\"contentLength\",\"contentType\",\"cookie\",\"payload\",\"label\"])"
   ]
  },
  {
   "cell_type": "code",
   "execution_count": 316,
   "id": "e60dade7",
   "metadata": {},
   "outputs": [
    {
     "ename": "TypeError",
     "evalue": "string indices must be integers",
     "output_type": "error",
     "traceback": [
      "\u001b[0;31m---------------------------------------------------------------------------\u001b[0m",
      "\u001b[0;31mTypeError\u001b[0m                                 Traceback (most recent call last)",
      "\u001b[0;32m/tmp/ipykernel_32/2705215541.py\u001b[0m in \u001b[0;36m<module>\u001b[0;34m\u001b[0m\n\u001b[1;32m      1\u001b[0m \u001b[0;32mfor\u001b[0m \u001b[0mi\u001b[0m \u001b[0;32min\u001b[0m \u001b[0mrange\u001b[0m\u001b[0;34m(\u001b[0m\u001b[0mint\u001b[0m\u001b[0;34m(\u001b[0m\u001b[0mlen\u001b[0m\u001b[0;34m(\u001b[0m\u001b[0mres\u001b[0m\u001b[0;34m[\u001b[0m\u001b[0;34m\"hits\"\u001b[0m\u001b[0;34m]\u001b[0m\u001b[0;34m[\u001b[0m\u001b[0;34m\"hits\"\u001b[0m\u001b[0;34m]\u001b[0m\u001b[0;34m)\u001b[0m\u001b[0;34m)\u001b[0m\u001b[0;34m)\u001b[0m\u001b[0;34m:\u001b[0m\u001b[0;34m\u001b[0m\u001b[0;34m\u001b[0m\u001b[0m\n\u001b[0;32m----> 2\u001b[0;31m     \u001b[0mres\u001b[0m \u001b[0;34m=\u001b[0m \u001b[0mres\u001b[0m\u001b[0;34m[\u001b[0m\u001b[0;34m\"hits\"\u001b[0m\u001b[0;34m]\u001b[0m\u001b[0;34m[\u001b[0m\u001b[0;34m\"hits\"\u001b[0m\u001b[0;34m]\u001b[0m\u001b[0;34m[\u001b[0m\u001b[0;36m0\u001b[0m\u001b[0;34m]\u001b[0m\u001b[0;34m[\u001b[0m\u001b[0;34m\"_source\"\u001b[0m\u001b[0;34m]\u001b[0m\u001b[0;34m[\u001b[0m\u001b[0;34m\"message\"\u001b[0m\u001b[0;34m]\u001b[0m\u001b[0;34m\u001b[0m\u001b[0;34m\u001b[0m\u001b[0m\n\u001b[0m\u001b[1;32m      3\u001b[0m     \u001b[0mdata\u001b[0m \u001b[0;34m=\u001b[0m \u001b[0mStringIO\u001b[0m\u001b[0;34m(\u001b[0m\u001b[0mres\u001b[0m\u001b[0;34m)\u001b[0m\u001b[0;34m\u001b[0m\u001b[0;34m\u001b[0m\u001b[0m\n\u001b[1;32m      4\u001b[0m     \u001b[0mdf\u001b[0m \u001b[0;34m=\u001b[0m \u001b[0mpd\u001b[0m\u001b[0;34m.\u001b[0m\u001b[0mread_csv\u001b[0m\u001b[0;34m(\u001b[0m\u001b[0mdata\u001b[0m\u001b[0;34m,\u001b[0m \u001b[0msep\u001b[0m \u001b[0;34m=\u001b[0m \u001b[0;34m\",\"\u001b[0m\u001b[0;34m)\u001b[0m\u001b[0;34m\u001b[0m\u001b[0;34m\u001b[0m\u001b[0m\n\u001b[1;32m      5\u001b[0m     \u001b[0mdf_empty\u001b[0m\u001b[0;34m.\u001b[0m\u001b[0mappend\u001b[0m\u001b[0;34m(\u001b[0m\u001b[0mdf\u001b[0m\u001b[0;34m)\u001b[0m\u001b[0;34m\u001b[0m\u001b[0;34m\u001b[0m\u001b[0m\n",
      "\u001b[0;31mTypeError\u001b[0m: string indices must be integers"
     ]
    }
   ],
   "source": [
    "for i in range(int(len(res[\"hits\"][\"hits\"]))):\n",
    "    res = res[\"hits\"][\"hits\"][0][\"_source\"][\"message\"]\n",
    "    data = StringIO(res)\n",
    "    df = pd.read_csv(data, sep = \",\")\n",
    "    df_empty.append(df)"
   ]
  },
  {
   "cell_type": "code",
   "execution_count": 312,
   "id": "8d853c8e",
   "metadata": {},
   "outputs": [
    {
     "data": {
      "text/plain": [
       "'\"5021\",\"GET\",\"http://localhost:8080/tienda1/publico/registro.jsp\",\"HTTP/1.1\",\"Mozilla/5.0 (compatible; Konqueror/3.5; Linux) KHTML/3.5.8 (like Gecko)\",\"no-cache\",\"no-cache\",\"text/xml,application/xml,application/xhtml+xml,text/html;q=0.9,text/plain;q=0.8,image/png,*/*;q=0.5\",\"x-gzip, x-deflate, gzip, deflate\",\"utf-8, utf-8;q=0.5, *;q=0.5\",\"en\",\"localhost:8080\",\"close\",\"null\",\"null\",\"JSESSIONID=42C5F69573A6487AF877BD05DED50143\",\"direccion=Segura+30%2C+\",\"norm\"'"
      ]
     },
     "execution_count": 312,
     "metadata": {},
     "output_type": "execute_result"
    }
   ],
   "source": [
    "res[\"hits\"][\"hits\"][0][\"_source\"][\"message\"]"
   ]
  },
  {
   "cell_type": "code",
   "execution_count": 230,
   "id": "fc5cfac6",
   "metadata": {},
   "outputs": [],
   "source": [
    "res = res[\"hits\"][\"hits\"][0][\"_source\"][\"message\"]"
   ]
  },
  {
   "cell_type": "code",
   "execution_count": 231,
   "id": "b426de64",
   "metadata": {},
   "outputs": [],
   "source": [
    "data = StringIO(res)"
   ]
  },
  {
   "cell_type": "code",
   "execution_count": 232,
   "id": "7c23c88a",
   "metadata": {},
   "outputs": [],
   "source": [
    "df = pd.read_csv(data, sep = \",\", names=[\"index\",\"method\",\"url\",\"protocol\",\"userAgent\",\"pragma\",\"cacheControl\",\"accept\",\"acceptEncoding\",\"acceptCharset\",\"acceptLanguage\",\"host\",\"connection\",\"contentLength\",\"contentType\",\"cookie\",\"payload\",\"label\"])"
   ]
  },
  {
   "cell_type": "code",
   "execution_count": 228,
   "id": "a276801f",
   "metadata": {},
   "outputs": [],
   "source": [
    "df = pd.DataFrame(list(res))"
   ]
  },
  {
   "cell_type": "code",
   "execution_count": 233,
   "id": "ed336426",
   "metadata": {},
   "outputs": [
    {
     "data": {
      "text/html": [
       "<div>\n",
       "<style scoped>\n",
       "    .dataframe tbody tr th:only-of-type {\n",
       "        vertical-align: middle;\n",
       "    }\n",
       "\n",
       "    .dataframe tbody tr th {\n",
       "        vertical-align: top;\n",
       "    }\n",
       "\n",
       "    .dataframe thead th {\n",
       "        text-align: right;\n",
       "    }\n",
       "</style>\n",
       "<table border=\"1\" class=\"dataframe\">\n",
       "  <thead>\n",
       "    <tr style=\"text-align: right;\">\n",
       "      <th></th>\n",
       "      <th>index</th>\n",
       "      <th>method</th>\n",
       "      <th>url</th>\n",
       "      <th>protocol</th>\n",
       "      <th>userAgent</th>\n",
       "      <th>pragma</th>\n",
       "      <th>cacheControl</th>\n",
       "      <th>accept</th>\n",
       "      <th>acceptEncoding</th>\n",
       "      <th>acceptCharset</th>\n",
       "      <th>acceptLanguage</th>\n",
       "      <th>host</th>\n",
       "      <th>connection</th>\n",
       "      <th>contentLength</th>\n",
       "      <th>contentType</th>\n",
       "      <th>cookie</th>\n",
       "      <th>payload</th>\n",
       "      <th>label</th>\n",
       "    </tr>\n",
       "  </thead>\n",
       "  <tbody>\n",
       "    <tr>\n",
       "      <th>0</th>\n",
       "      <td>5021</td>\n",
       "      <td>GET</td>\n",
       "      <td>http://localhost:8080/tienda1/publico/registro...</td>\n",
       "      <td>HTTP/1.1</td>\n",
       "      <td>Mozilla/5.0 (compatible; Konqueror/3.5; Linux)...</td>\n",
       "      <td>no-cache</td>\n",
       "      <td>no-cache</td>\n",
       "      <td>text/xml,application/xml,application/xhtml+xml...</td>\n",
       "      <td>x-gzip, x-deflate, gzip, deflate</td>\n",
       "      <td>utf-8, utf-8;q=0.5, *;q=0.5</td>\n",
       "      <td>en</td>\n",
       "      <td>localhost:8080</td>\n",
       "      <td>close</td>\n",
       "      <td>NaN</td>\n",
       "      <td>NaN</td>\n",
       "      <td>JSESSIONID=42C5F69573A6487AF877BD05DED50143</td>\n",
       "      <td>direccion=Segura+30%2C+</td>\n",
       "      <td>norm</td>\n",
       "    </tr>\n",
       "  </tbody>\n",
       "</table>\n",
       "</div>"
      ],
      "text/plain": [
       "   index method                                                url  protocol  \\\n",
       "0   5021    GET  http://localhost:8080/tienda1/publico/registro...  HTTP/1.1   \n",
       "\n",
       "                                           userAgent    pragma cacheControl  \\\n",
       "0  Mozilla/5.0 (compatible; Konqueror/3.5; Linux)...  no-cache     no-cache   \n",
       "\n",
       "                                              accept  \\\n",
       "0  text/xml,application/xml,application/xhtml+xml...   \n",
       "\n",
       "                     acceptEncoding                acceptCharset  \\\n",
       "0  x-gzip, x-deflate, gzip, deflate  utf-8, utf-8;q=0.5, *;q=0.5   \n",
       "\n",
       "  acceptLanguage            host connection  contentLength  contentType  \\\n",
       "0             en  localhost:8080      close            NaN          NaN   \n",
       "\n",
       "                                        cookie                  payload label  \n",
       "0  JSESSIONID=42C5F69573A6487AF877BD05DED50143  direccion=Segura+30%2C+  norm  "
      ]
     },
     "execution_count": 233,
     "metadata": {},
     "output_type": "execute_result"
    }
   ],
   "source": [
    "df"
   ]
  },
  {
   "cell_type": "code",
   "execution_count": null,
   "id": "a106dd56",
   "metadata": {},
   "outputs": [],
   "source": []
  }
 ],
 "metadata": {
  "kernelspec": {
   "display_name": "Python 3 (ipykernel)",
   "language": "python",
   "name": "python3"
  },
  "language_info": {
   "codemirror_mode": {
    "name": "ipython",
    "version": 3
   },
   "file_extension": ".py",
   "mimetype": "text/x-python",
   "name": "python",
   "nbconvert_exporter": "python",
   "pygments_lexer": "ipython3",
   "version": "3.9.6"
  }
 },
 "nbformat": 4,
 "nbformat_minor": 5
}
