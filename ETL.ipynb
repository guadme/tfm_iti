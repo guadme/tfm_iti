{
 "cells": [
  {
   "cell_type": "markdown",
   "id": "f29f6530",
   "metadata": {},
   "source": [
    "# ETL Script for TFM ITI"
   ]
  },
  {
   "cell_type": "markdown",
   "id": "ece80885",
   "metadata": {},
   "source": [
    "### Import libraries"
   ]
  },
  {
   "cell_type": "code",
   "execution_count": null,
   "id": "e67bd835",
   "metadata": {},
   "outputs": [],
   "source": [
    "pip install elasticsearch"
   ]
  },
  {
   "cell_type": "code",
   "execution_count": 3,
   "id": "87b19726",
   "metadata": {},
   "outputs": [],
   "source": [
    "from elasticsearch import Elasticsearch\n",
    "from io import StringIO\n",
    "import pandas as pd"
   ]
  },
  {
   "cell_type": "code",
   "execution_count": 1,
   "id": "f0827766",
   "metadata": {},
   "outputs": [],
   "source": [
    "import requests\n",
    "import json\n",
    "import pprint"
   ]
  },
  {
   "cell_type": "markdown",
   "id": "fa2c6a63",
   "metadata": {},
   "source": [
    "### Import docs from Elasticsearch "
   ]
  },
  {
   "cell_type": "code",
   "execution_count": 4,
   "id": "1c709da1",
   "metadata": {},
   "outputs": [],
   "source": [
    "es = Elasticsearch('http://elasticsearch:9200')"
   ]
  },
  {
   "cell_type": "code",
   "execution_count": 11,
   "id": "94877115",
   "metadata": {},
   "outputs": [],
   "source": [
    "size = 10000\n",
    "res = es.search(index=\"logs-raw\", body={\"query\": {\"match_all\": {}}}, size = size)"
   ]
  },
  {
   "cell_type": "markdown",
   "id": "ec454776",
   "metadata": {},
   "source": [
    "> Size = 10000 is the max number of hits that a search can get"
   ]
  },
  {
   "cell_type": "markdown",
   "id": "110ce70e",
   "metadata": {},
   "source": [
    "### Create Dataframe "
   ]
  },
  {
   "cell_type": "code",
   "execution_count": 19,
   "id": "7b49f483",
   "metadata": {},
   "outputs": [],
   "source": [
    "#Create empty DataFrame\n",
    "raw_df = pd.DataFrame(columns = [\"index\",\"method\",\"url\",\"protocol\",\"userAgent\",\"pragma\",\"cacheControl\",\"accept\",\"acceptEncoding\",\"acceptCharset\",\"acceptLanguage\",\"host\",\"connection\",\"contentLength\",\"contentType\",\"cookie\",\"payload\",\"label\"])"
   ]
  },
  {
   "cell_type": "code",
   "execution_count": 20,
   "id": "8846ab8f",
   "metadata": {},
   "outputs": [],
   "source": [
    "#Add every single log to the DataFrame\n",
    "for i in range(size):\n",
    "    message = res[\"hits\"][\"hits\"][i][\"_source\"][\"message\"]\n",
    "    data = StringIO(message)\n",
    "    df = pd.read_csv(data, sep = \",\", names = [\"index\",\"method\",\"url\",\"protocol\",\"userAgent\",\"pragma\",\"cacheControl\",\"accept\",\"acceptEncoding\",\"acceptCharset\",\"acceptLanguage\",\"host\",\"connection\",\"contentLength\",\"contentType\",\"cookie\",\"payload\",\"label\"])\n",
    "    raw_df = raw_df.append(df, ignore_index=True)"
   ]
  },
  {
   "cell_type": "code",
   "execution_count": null,
   "id": "ed336426",
   "metadata": {},
   "outputs": [],
   "source": [
    "result = raw_df.to_json(orient=\"index\")\n",
    "document = json.loads(result) "
   ]
  },
  {
   "cell_type": "markdown",
   "id": "b58366c9",
   "metadata": {},
   "source": [
    "### Store clean DataFrame in different Elasticsearch index"
   ]
  },
  {
   "cell_type": "code",
   "execution_count": 60,
   "id": "8d550739",
   "metadata": {},
   "outputs": [],
   "source": [
    "requests.put('http://elasticsearch:9200/logs-clean')\n",
    "\n",
    "for i in range(size):\n",
    "    requests.post('http://elasticsearch:9200/logs-clean/doc/',json=document[str(i)])"
   ]
  },
  {
   "cell_type": "code",
   "execution_count": null,
   "id": "3ddbc385",
   "metadata": {},
   "outputs": [],
   "source": []
  }
 ],
 "metadata": {
  "kernelspec": {
   "display_name": "Python 3 (ipykernel)",
   "language": "python",
   "name": "python3"
  },
  "language_info": {
   "codemirror_mode": {
    "name": "ipython",
    "version": 3
   },
   "file_extension": ".py",
   "mimetype": "text/x-python",
   "name": "python",
   "nbconvert_exporter": "python",
   "pygments_lexer": "ipython3",
   "version": "3.9.6"
  }
 },
 "nbformat": 4,
 "nbformat_minor": 5
}
